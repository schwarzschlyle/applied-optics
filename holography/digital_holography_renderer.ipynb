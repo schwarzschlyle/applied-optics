{
  "nbformat": 4,
  "nbformat_minor": 0,
  "metadata": {
    "colab": {
      "provenance": [],
      "mount_file_id": "10Ko4f2l2UpPm6sZcVgvSvPzmYkJxyt_S",
      "authorship_tag": "ABX9TyMR6cg252qB3c9xxtLqx182"
    },
    "kernelspec": {
      "name": "python3",
      "display_name": "Python 3"
    },
    "language_info": {
      "name": "python"
    }
  },
  "cells": [
    {
      "cell_type": "code",
      "execution_count": 1,
      "metadata": {
        "colab": {
          "base_uri": "https://localhost:8080/"
        },
        "id": "OhV2peyUKG6H",
        "outputId": "45b03813-9fef-49c0-cd63-fedf22f7b847"
      },
      "outputs": [
        {
          "output_type": "stream",
          "name": "stdout",
          "text": [
            "Mounted at /content/drive/\n"
          ]
        }
      ],
      "source": [
        "from google.colab import drive\n",
        "drive.mount('/content/drive/')"
      ]
    },
    {
      "cell_type": "code",
      "source": [
        "import os\n",
        "import glob"
      ],
      "metadata": {
        "id": "qxXMlE96KH-J"
      },
      "execution_count": 2,
      "outputs": []
    },
    {
      "cell_type": "code",
      "source": [
        "def images2video(output, images=None, fps=30, size=None, is_color=True, format=\"FMP4\"):\n",
        "    \"\"\"\n",
        "    Create a video from a list of images.\n",
        " \n",
        "    @param      outvid      output video\n",
        "    @param      images      list of images to use in the video\n",
        "    @param      fps         frame per second\n",
        "    @param      size        size of each frame\n",
        "    @param      is_color    color\n",
        "    @param      format      see http://www.fourcc.org/codecs.php\n",
        "    @return                 see http://opencv-python-tutroals.readthedocs.org/en/latest/py_tutorials/py_gui/py_video_display/py_video_display.html\n",
        " \n",
        "    The function relies on http://opencv-python-tutroals.readthedocs.org/en/latest/.\n",
        "    By default, the video will have the size of the first image.\n",
        "    It will resize every image to this size before adding them to the video.\n",
        "    \"\"\"\n",
        "    from cv2 import VideoWriter, VideoWriter_fourcc, imread, resize\n",
        "    fourcc = VideoWriter_fourcc(*format)\n",
        "    vid = None\n",
        "    for image in images:\n",
        "        if not os.path.exists(image):\n",
        "            raise FileNotFoundError(image)\n",
        "        img = imread(image)\n",
        "        if vid is None:\n",
        "            if size is None:\n",
        "                size = img.shape[1], img.shape[0]\n",
        "            vid = VideoWriter(output, fourcc, float(fps), size, is_color)\n",
        "        if size[0] != img.shape[1] and size[1] != img.shape[0]:\n",
        "            img = resize(img, size)\n",
        "        vid.write(img)\n",
        "    vid.release()\n",
        "    return vid"
      ],
      "metadata": {
        "id": "8WVLs6oqKLQA"
      },
      "execution_count": 4,
      "outputs": []
    },
    {
      "cell_type": "markdown",
      "source": [
        "# Adam"
      ],
      "metadata": {
        "id": "MLn2zu7ILTEH"
      }
    },
    {
      "cell_type": "code",
      "source": [
        "WORK_DIR = \"/content/drive/MyDrive/digital_holography/adam\"\n",
        "OUTPUT_PATH = os.path.join(WORK_DIR, \"adam.mp4\")"
      ],
      "metadata": {
        "id": "O9Lt9bJ1KK03"
      },
      "execution_count": 5,
      "outputs": []
    },
    {
      "cell_type": "code",
      "source": [
        "images = list(glob.iglob(os.path.join(WORK_DIR, '*.*')))\n",
        "\n",
        "# Sort the images by integer index\n",
        "images = sorted(images, key=lambda x: os.path.split(x)[1])\n",
        "\n",
        "images2video(OUTPUT_PATH, images, fps=5)"
      ],
      "metadata": {
        "colab": {
          "base_uri": "https://localhost:8080/"
        },
        "id": "OHIyrpo8KM3w",
        "outputId": "cde93564-5f16-45c0-ed11-608c9fe0b785"
      },
      "execution_count": 7,
      "outputs": [
        {
          "output_type": "execute_result",
          "data": {
            "text/plain": [
              "< cv2.VideoWriter 0x7fb5bf13e710>"
            ]
          },
          "metadata": {},
          "execution_count": 7
        }
      ]
    },
    {
      "cell_type": "markdown",
      "source": [
        "# CG"
      ],
      "metadata": {
        "id": "yc1xaio1LSLH"
      }
    },
    {
      "cell_type": "code",
      "source": [
        "WORK_DIR = \"/content/drive/MyDrive/digital_holography/conjugate_gradient\"\n",
        "OUTPUT_PATH = os.path.join(WORK_DIR, \"cg.mp4\")"
      ],
      "metadata": {
        "id": "IWNVmKJ6LdJY"
      },
      "execution_count": 8,
      "outputs": []
    },
    {
      "cell_type": "code",
      "source": [
        "images = list(glob.iglob(os.path.join(WORK_DIR, '*.*')))\n",
        "\n",
        "# Sort the images by integer index\n",
        "images = sorted(images, key=lambda x: os.path.split(x)[1][:-4])\n",
        "\n",
        "images2video(OUTPUT_PATH, images, fps=5)"
      ],
      "metadata": {
        "colab": {
          "base_uri": "https://localhost:8080/"
        },
        "id": "3VpqaZyKLlu0",
        "outputId": "972cf1f6-22d4-47ff-9974-30b1e39f738e"
      },
      "execution_count": 9,
      "outputs": [
        {
          "output_type": "execute_result",
          "data": {
            "text/plain": [
              "< cv2.VideoWriter 0x7fb5bf13e870>"
            ]
          },
          "metadata": {},
          "execution_count": 9
        }
      ]
    },
    {
      "cell_type": "markdown",
      "source": [
        "# SGD"
      ],
      "metadata": {
        "id": "nIsNaPGBLdji"
      }
    },
    {
      "cell_type": "code",
      "source": [
        "WORK_DIR = \"/content/drive/MyDrive/digital_holography/stochastic_gradient_descent\"\n",
        "OUTPUT_PATH = os.path.join(WORK_DIR, \"sgd.mp4\")"
      ],
      "metadata": {
        "id": "MsK-Oh-HLeRG"
      },
      "execution_count": 10,
      "outputs": []
    },
    {
      "cell_type": "code",
      "source": [
        "images = list(glob.iglob(os.path.join(WORK_DIR, '*.*')))\n",
        "\n",
        "# Sort the images by integer index\n",
        "images = sorted(images, key=lambda x: os.path.split(x)[1][:-4])\n",
        "\n",
        "images2video(OUTPUT_PATH, images, fps=5)"
      ],
      "metadata": {
        "colab": {
          "base_uri": "https://localhost:8080/"
        },
        "id": "j_nGwA6-Lnh0",
        "outputId": "c8c62fd1-9855-4810-acd8-52ee0eb3ec68"
      },
      "execution_count": 11,
      "outputs": [
        {
          "output_type": "execute_result",
          "data": {
            "text/plain": [
              "< cv2.VideoWriter 0x7fb5bf13ed50>"
            ]
          },
          "metadata": {},
          "execution_count": 11
        }
      ]
    }
  ]
}